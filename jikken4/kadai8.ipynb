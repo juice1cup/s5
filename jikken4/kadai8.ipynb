{
 "cells": [
  {
   "cell_type": "markdown",
   "metadata": {},
   "source": [
    "kadai8"
   ]
  },
  {
   "cell_type": "code",
   "execution_count": null,
   "metadata": {},
   "outputs": [],
   "source": [
    "import numpy as np\n",
    "import matplotlib.pyplot as plt\n",
    "import os\n",
    "\n",
    "folder_name = 'kadai8_data'\n",
    "\n",
    "# Step 1: Generate linearly spaced arrays for x and y\n",
    "x = np.linspace(-np.pi, np.pi*2, 50) #50,\n",
    "y = np.linspace(-np.pi*2, np.pi, 50)\n",
    "# Step 2: Create a mesh grid from x and y\n",
    "xm, ym = np.meshgrid(x, y)\n",
    "# Step 3: Compute the values of z\n",
    "z = np.sin(xm) + np.cos(ym)\n",
    "# Step 4: Plot the 3D surface\n",
    "fig = plt.figure()\n",
    "ax = fig.add_subplot(111, projection='3d')\n",
    "ax.plot_surface(xm, ym, z, cmap='viridis')\n",
    "# Labels\n",
    "ax.set_xlabel('X axis')\n",
    "ax.set_ylabel('Y axis')\n",
    "ax.set_zlabel('Z axis')\n",
    "# Title\n",
    "ax.set_title('3D Plot of z = sin(x) + cos(y)')\n",
    "plt.show()\n",
    "\n",
    "#データを整形したらノイズを加えtraindataの作成\n",
    "np.random.seed(42)\n",
    "train_num = np.random.choice(2500,1600,replace=False) #これで1600個選択\n",
    "#それぞれ1次元に戻す\n",
    "x1 = xm.reshape(-1)\n",
    "y1 = ym.reshape(-1)\n",
    "z1 = z.reshape(-1)\n",
    "a = 0.05\n",
    "noise = np.random.normal(loc=0.0, scale=a, size=len(train_num))\n",
    "data = np.array((x1,y1,z1))\n",
    "#2500のなかから1600個のデータを選ぶ\n",
    "train_data = data[:, train_num]\n",
    "train_noise = noise + z1[train_num] \n",
    "train_data_no = np.array((x1[train_num], y1[train_num], train_noise))\n",
    "\n",
    "if not os.path.exists(folder_name):\n",
    "    os.makedirs(folder_name)\n",
    "np.savetxt(f\"./{folder_name}/train_data_8.txt\",train_data_no.T)\n",
    "np.savetxt(f\"./{folder_name}/test_data_8.txt\", data.T)"
   ]
  },
  {
   "cell_type": "code",
   "execution_count": 1,
   "metadata": {},
   "outputs": [],
   "source": [
    "from RBFnetwork import RBF_3d\n",
    "\n",
    "file_path = './kadai8_data/train_data_8.txt'\n",
    "\n",
    "M=100\n",
    "learning_rate = 0.1  # 学習率\n",
    "max_epoch = 500  # 最大エポック数\n",
    "threshold = 1e-3  # 収束判定の閾値\n",
    "\n",
    "rbf = RBF_3d(M, learning_rate, max_epoch, threshold)\n",
    "weights = rbf.train(file_path)\n",
    "rbf.plot3d()\n"
   ]
  }
 ],
 "metadata": {
  "kernelspec": {
   "display_name": "Python 3",
   "language": "python",
   "name": "python3"
  },
  "language_info": {
   "codemirror_mode": {
    "name": "ipython",
    "version": 3
   },
   "file_extension": ".py",
   "mimetype": "text/x-python",
   "name": "python",
   "nbconvert_exporter": "python",
   "pygments_lexer": "ipython3",
   "version": "3.12.3"
  }
 },
 "nbformat": 4,
 "nbformat_minor": 2
}
